{
 "cells": [
  {
   "cell_type": "code",
   "execution_count": 1,
   "metadata": {
    "collapsed": true
   },
   "outputs": [],
   "source": [
    "### This was based on https://github.com/aclarkData/Journal-Entry-Machine-Learning\n",
    "import pandas as pd\n",
    "import matplotlib.pyplot as plt\n",
    "%matplotlib inline"
   ]
  },
  {
   "cell_type": "code",
   "execution_count": 2,
   "metadata": {
    "collapsed": false
   },
   "outputs": [
    {
     "name": "stderr",
     "output_type": "stream",
     "text": [
      "C:\\Users\\jroge12\\AppData\\Local\\Continuum\\Anaconda2\\lib\\site-packages\\IPython\\core\\interactiveshell.py:2717: DtypeWarning: Columns (0,7) have mixed types. Specify dtype option on import or set low_memory=False.\n",
      "  interactivity=interactivity, compiler=compiler, result=result)\n"
     ]
    }
   ],
   "source": [
    "je_data = pd.read_csv(\"jan-je.xls\")"
   ]
  },
  {
   "cell_type": "code",
   "execution_count": 3,
   "metadata": {
    "collapsed": false
   },
   "outputs": [],
   "source": [
    "### Convert date object to date\n",
    "je_data['Date'] = pd.to_datetime(je_data['Date'])"
   ]
  },
  {
   "cell_type": "code",
   "execution_count": 4,
   "metadata": {
    "collapsed": false
   },
   "outputs": [],
   "source": [
    "### Convert date to int\n",
    "je_data['Date Int'] = pd.to_numeric(je_data['Date'])"
   ]
  },
  {
   "cell_type": "code",
   "execution_count": 5,
   "metadata": {
    "collapsed": true
   },
   "outputs": [],
   "source": [
    "je_data = je_data.fillna(0)"
   ]
  },
  {
   "cell_type": "code",
   "execution_count": 6,
   "metadata": {
    "collapsed": false
   },
   "outputs": [
    {
     "data": {
      "text/plain": [
       "Account                 object\n",
       "Date            datetime64[ns]\n",
       "Sum Amount             float64\n",
       "Line Descr              object\n",
       "Journal ID              object\n",
       "User                    object\n",
       "Unit                    object\n",
       "Resource                object\n",
       "Activity                object\n",
       "Physical Loc            object\n",
       "Project                 object\n",
       "Currency                object\n",
       "Date Int                 int64\n",
       "dtype: object"
      ]
     },
     "execution_count": 6,
     "metadata": {},
     "output_type": "execute_result"
    }
   ],
   "source": [
    "je_data.dtypes"
   ]
  },
  {
   "cell_type": "code",
   "execution_count": 30,
   "metadata": {
    "collapsed": false
   },
   "outputs": [],
   "source": [
    "from sklearn.feature_extraction import DictVectorizer\n",
    "\n",
    "# Turn categorical features into 1-hot encoded features\n",
    "categorical_features = je_data[['Account', 'User', 'Unit', 'Resource', 'Activity']] #, 'Physical Loc', 'Project'\n",
    "#dv = DictVectorizer()\n",
    "# accounts = pd.get_dummies(je_data['Account']).rename(columns=lambda x: str(x))\n",
    "# users = pd.get_dummies(je_data['User']).rename(columns=lambda x: str(x))\n",
    "# units = pd.get_dummies(je_data['Unit']).rename(columns=lambda x: str(x))\n",
    "# resources = pd.get_dummies(je_data['Resource']).rename(columns=lambda x: str(x))\n",
    "# activities = pd.get_dummies(je_data['Activity']).rename(columns=lambda x: str(x))\n",
    "# locations = pd.get_dummies(je_data['Physical Loc']).rename(columns=lambda x: str(x))\n",
    "# projects = pd.get_dummies(je_data['Project']).rename(columns=lambda x: str(x))\n",
    "# data_matrix = pd.concat([accounts,users,units,resources,activities,locations,je_data[['Sum Amount']]], axis=1)\n",
    "cat_matrix = DictVectorizer().fit_transform(categorical_features.T.to_dict().values())"
   ]
  },
  {
   "cell_type": "code",
   "execution_count": null,
   "metadata": {
    "collapsed": true
   },
   "outputs": [],
   "source": [
    "# Collect the other numerical features\n",
    "from scipy.sparse import hstack\n",
    "# other_features = je_data[['Sum Amount','Date Int']]\n",
    "other_features = je_data[['Sum Amount']]\n",
    "data_matrix = hstack([cat_matrix, other_features])"
   ]
  },
  {
   "cell_type": "code",
   "execution_count": null,
   "metadata": {
    "collapsed": false
   },
   "outputs": [],
   "source": [
    "from sklearn.cluster import KMeans\n",
    "# define how many clusters and how many iterations. \n",
    "clustering_model = KMeans(n_clusters = 25, n_init= 10)\n",
    "#clustering_model.fit(data_matrix)\n",
    "\n",
    "clusters = clustering_model.fit_predict(data_matrix)"
   ]
  },
  {
   "cell_type": "code",
   "execution_count": null,
   "metadata": {
    "collapsed": false
   },
   "outputs": [],
   "source": [
    "results = pd.DataFrame({'cluster' : clusters,'Account' : je_data['Account'],'Date' : je_data['Date'],\n",
    "                        'Sum Amount' : je_data['Sum Amount'], 'Line Descr' : je_data['Line Descr'],\n",
    "                        'Journal ID' : je_data['Journal ID'],'User' : je_data['User'],\n",
    "                        'Unit' : je_data['Unit'],'Resource' : je_data['Resource'],\n",
    "                        'Activity' : je_data['Activity'],'Physical Loc' : je_data['Physical Loc'],\n",
    "                        'Project' : je_data['Project'],'Currency' : je_data['Currency']})\n",
    "cluster_counts = results.groupby('cluster')['Sum Amount'].value_counts()\n",
    "results.hist()"
   ]
  },
  {
   "cell_type": "code",
   "execution_count": null,
   "metadata": {
    "collapsed": false
   },
   "outputs": [],
   "source": [
    "results.describe()"
   ]
  },
  {
   "cell_type": "code",
   "execution_count": 27,
   "metadata": {
    "collapsed": true
   },
   "outputs": [],
   "source": [
    "#Group results by cluster\n",
    "bycluster = results.groupby('cluster')"
   ]
  },
  {
   "cell_type": "code",
   "execution_count": 28,
   "metadata": {
    "collapsed": true
   },
   "outputs": [],
   "source": [
    "#extract data per cluster where the the cluster has fewer than 20 values\n",
    "kclusters=bycluster.filter(lambda x: len(x) < 20)"
   ]
  },
  {
   "cell_type": "code",
   "execution_count": 29,
   "metadata": {
    "collapsed": true
   },
   "outputs": [],
   "source": [
    "#export results\n",
    "kclusters.to_excel('kmeans_je.xlsx', sheet_name='Sheet1')  "
   ]
  },
  {
   "cell_type": "code",
   "execution_count": 26,
   "metadata": {
    "collapsed": false
   },
   "outputs": [],
   "source": [
    "# This always errors due to not enough memory\n",
    "# from sklearn.preprocessing import scale\n",
    "# data_matrix = scale(data_matrix.todense())"
   ]
  }
 ],
 "metadata": {
  "anaconda-cloud": {},
  "kernelspec": {
   "display_name": "Python [conda root]",
   "language": "python",
   "name": "conda-root-py"
  },
  "language_info": {
   "codemirror_mode": {
    "name": "ipython",
    "version": 2
   },
   "file_extension": ".py",
   "mimetype": "text/x-python",
   "name": "python",
   "nbconvert_exporter": "python",
   "pygments_lexer": "ipython2",
   "version": "2.7.12"
  }
 },
 "nbformat": 4,
 "nbformat_minor": 0
}
