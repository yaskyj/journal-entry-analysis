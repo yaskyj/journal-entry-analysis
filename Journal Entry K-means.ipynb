{
 "cells": [
  {
   "cell_type": "code",
   "execution_count": 1,
   "metadata": {
    "collapsed": true
   },
   "outputs": [],
   "source": [
    "### This was based on https://github.com/aclarkData/Journal-Entry-Machine-Learning\n",
    "import pandas as pd\n",
    "import matplotlib.pyplot as plt\n",
    "%matplotlib inline"
   ]
  },
  {
   "cell_type": "code",
   "execution_count": 2,
   "metadata": {
    "collapsed": true
   },
   "outputs": [],
   "source": [
    "je_data = pd.read_csv(\"jan-jun-je.csv\")"
   ]
  },
  {
   "cell_type": "code",
   "execution_count": 3,
   "metadata": {
    "collapsed": true
   },
   "outputs": [],
   "source": [
    "### Convert date object to date\n",
    "je_data['Date'] = pd.to_datetime(je_data['Date'])"
   ]
  },
  {
   "cell_type": "code",
   "execution_count": 4,
   "metadata": {
    "collapsed": true
   },
   "outputs": [],
   "source": [
    "### Convert date to int\n",
    "je_data['Date Int'] = pd.to_numeric(je_data['Date'])"
   ]
  },
  {
   "cell_type": "code",
   "execution_count": 5,
   "metadata": {
    "collapsed": true
   },
   "outputs": [],
   "source": [
    "je_data = je_data.fillna(0)"
   ]
  },
  {
   "cell_type": "code",
   "execution_count": 6,
   "metadata": {
    "collapsed": true
   },
   "outputs": [],
   "source": [
    "je_data['Mask'] = je_data['Journal ID'].astype(str).str[:3]"
   ]
  },
  {
   "cell_type": "code",
   "execution_count": 7,
   "metadata": {},
   "outputs": [
    {
     "data": {
      "text/plain": [
       "Journal ID            object\n",
       "Date          datetime64[ns]\n",
       "Unit                  object\n",
       "Lines                  int64\n",
       "Debits               float64\n",
       "Credits              float64\n",
       "Source                object\n",
       "User                  object\n",
       "Sys Source            object\n",
       "Date Int               int64\n",
       "Mask                  object\n",
       "dtype: object"
      ]
     },
     "execution_count": 7,
     "metadata": {},
     "output_type": "execute_result"
    }
   ],
   "source": [
    "je_data.dtypes"
   ]
  },
  {
   "cell_type": "code",
   "execution_count": 8,
   "metadata": {
    "collapsed": true
   },
   "outputs": [],
   "source": [
    "from sklearn.feature_extraction import DictVectorizer\n",
    "\n",
    "# Turn categorical features into 1-hot encoded features\n",
    "categorical_features = je_data[['Unit', 'Source', 'User', 'Sys Source']]\n",
    "cat_matrix = DictVectorizer().fit_transform(categorical_features.T.to_dict().values())"
   ]
  },
  {
   "cell_type": "code",
   "execution_count": 9,
   "metadata": {
    "collapsed": true
   },
   "outputs": [],
   "source": [
    "# Collect the other numerical features\n",
    "from scipy.sparse import hstack\n",
    "# other_features = je_data[['Debits','Date Int', 'Lines']]\n",
    "other_features = je_data[['Debits', 'Lines']]\n",
    "data_matrix = hstack([cat_matrix, other_features])"
   ]
  },
  {
   "cell_type": "code",
   "execution_count": 10,
   "metadata": {
    "collapsed": true
   },
   "outputs": [],
   "source": [
    "from sklearn.cluster import KMeans\n",
    "# define how many clusters and how many iterations. \n",
    "clustering_model = KMeans(n_clusters = 25, n_init= 10)\n",
    "#clustering_model.fit(data_matrix)\n",
    "\n",
    "clusters = clustering_model.fit_predict(data_matrix)"
   ]
  },
  {
   "cell_type": "code",
   "execution_count": 11,
   "metadata": {
    "scrolled": false
   },
   "outputs": [
    {
     "data": {
      "text/plain": [
       "array([[<matplotlib.axes._subplots.AxesSubplot object at 0x09E13270>,\n",
       "        <matplotlib.axes._subplots.AxesSubplot object at 0x09FAD7D0>],\n",
       "       [<matplotlib.axes._subplots.AxesSubplot object at 0x0A05BF30>,\n",
       "        <matplotlib.axes._subplots.AxesSubplot object at 0x09F57450>]], dtype=object)"
      ]
     },
     "execution_count": 11,
     "metadata": {},
     "output_type": "execute_result"
    },
    {
     "data": {
      "image/png": "[encoded data removed]",
      "text/plain": [
       "<matplotlib.figure.Figure at 0xa352d90>"
      ]
     },
     "metadata": {},
     "output_type": "display_data"
    }
   ],
   "source": [
    "results = pd.DataFrame({'cluster' : clusters, 'Journal ID' : je_data['Journal ID'], \n",
    "                        'Date' : je_data['Date'], 'Unit' : je_data['Unit'], \n",
    "                        'Lines' : je_data['Lines'], 'Debits' : je_data['Debits'], \n",
    "                        'Credits' : je_data['Credits'], 'Source' : je_data['Source'], \n",
    "                        'User' : je_data['User'], 'Sys Source' : je_data['Sys Source']})\n",
    "cluster_counts = results.groupby('cluster')['Debits'].value_counts()\n",
    "results.hist()"
   ]
  },
  {
   "cell_type": "code",
   "execution_count": 12,
   "metadata": {
    "scrolled": true
   },
   "outputs": [
    {
     "data": {
      "text/html": [
       "<div>\n",
       "<style>\n",
       "    .dataframe thead tr:only-child th {\n",
       "        text-align: right;\n",
       "    }\n",
       "\n",
       "    .dataframe thead th {\n",
       "        text-align: left;\n",
       "    }\n",
       "\n",
       "    .dataframe tbody tr th {\n",
       "        vertical-align: top;\n",
       "    }\n",
       "</style>\n",
       "<table border=\"1\" class=\"dataframe\">\n",
       "  <thead>\n",
       "    <tr style=\"text-align: right;\">\n",
       "      <th></th>\n",
       "      <th>Credits</th>\n",
       "      <th>Debits</th>\n",
       "      <th>Lines</th>\n",
       "      <th>cluster</th>\n",
       "    </tr>\n",
       "  </thead>\n",
       "  <tbody>\n",
       "    <tr>\n",
       "      <th>count</th>\n",
       "      <td>5.835000e+03</td>\n",
       "      <td>5.835000e+03</td>\n",
       "      <td>5835.000000</td>\n",
       "      <td>5835.000000</td>\n",
       "    </tr>\n",
       "    <tr>\n",
       "      <th>mean</th>\n",
       "      <td>2.382763e+07</td>\n",
       "      <td>2.382763e+07</td>\n",
       "      <td>12.904542</td>\n",
       "      <td>2.955099</td>\n",
       "    </tr>\n",
       "    <tr>\n",
       "      <th>std</th>\n",
       "      <td>1.784327e+08</td>\n",
       "      <td>1.784327e+08</td>\n",
       "      <td>37.714765</td>\n",
       "      <td>5.858845</td>\n",
       "    </tr>\n",
       "    <tr>\n",
       "      <th>min</th>\n",
       "      <td>1.000000e-02</td>\n",
       "      <td>1.000000e-02</td>\n",
       "      <td>2.000000</td>\n",
       "      <td>0.000000</td>\n",
       "    </tr>\n",
       "    <tr>\n",
       "      <th>25%</th>\n",
       "      <td>2.912197e+04</td>\n",
       "      <td>2.912197e+04</td>\n",
       "      <td>2.000000</td>\n",
       "      <td>0.000000</td>\n",
       "    </tr>\n",
       "    <tr>\n",
       "      <th>50%</th>\n",
       "      <td>3.793101e+05</td>\n",
       "      <td>3.793101e+05</td>\n",
       "      <td>4.000000</td>\n",
       "      <td>0.000000</td>\n",
       "    </tr>\n",
       "    <tr>\n",
       "      <th>75%</th>\n",
       "      <td>4.275635e+06</td>\n",
       "      <td>4.275635e+06</td>\n",
       "      <td>10.000000</td>\n",
       "      <td>0.000000</td>\n",
       "    </tr>\n",
       "    <tr>\n",
       "      <th>max</th>\n",
       "      <td>3.781887e+09</td>\n",
       "      <td>3.781887e+09</td>\n",
       "      <td>579.000000</td>\n",
       "      <td>24.000000</td>\n",
       "    </tr>\n",
       "  </tbody>\n",
       "</table>\n",
       "</div>"
      ],
      "text/plain": [
       "            Credits        Debits        Lines      cluster\n",
       "count  5.835000e+03  5.835000e+03  5835.000000  5835.000000\n",
       "mean   2.382763e+07  2.382763e+07    12.904542     2.955099\n",
       "std    1.784327e+08  1.784327e+08    37.714765     5.858845\n",
       "min    1.000000e-02  1.000000e-02     2.000000     0.000000\n",
       "25%    2.912197e+04  2.912197e+04     2.000000     0.000000\n",
       "50%    3.793101e+05  3.793101e+05     4.000000     0.000000\n",
       "75%    4.275635e+06  4.275635e+06    10.000000     0.000000\n",
       "max    3.781887e+09  3.781887e+09   579.000000    24.000000"
      ]
     },
     "execution_count": 12,
     "metadata": {},
     "output_type": "execute_result"
    }
   ],
   "source": [
    "results.describe()"
   ]
  },
  {
   "cell_type": "code",
   "execution_count": 13,
   "metadata": {
    "collapsed": true
   },
   "outputs": [],
   "source": [
    "#Group results by cluster\n",
    "bycluster = results.groupby('cluster')"
   ]
  },
  {
   "cell_type": "code",
   "execution_count": 14,
   "metadata": {
    "collapsed": true
   },
   "outputs": [],
   "source": [
    "#extract data per cluster where the the cluster has fewer than 20 values\n",
    "kclusters=bycluster.filter(lambda x: len(x) < 20)"
   ]
  },
  {
   "cell_type": "code",
   "execution_count": 15,
   "metadata": {},
   "outputs": [
    {
     "name": "stdout",
     "output_type": "stream",
     "text": [
      "90\n"
     ]
    }
   ],
   "source": [
    "print len(kclusters)"
   ]
  },
  {
   "cell_type": "code",
   "execution_count": 16,
   "metadata": {},
   "outputs": [
    {
     "name": "stdout",
     "output_type": "stream",
     "text": [
      "5835\n"
     ]
    }
   ],
   "source": [
    "print len(je_data)"
   ]
  },
  {
   "cell_type": "code",
   "execution_count": 17,
   "metadata": {
    "collapsed": true
   },
   "outputs": [],
   "source": [
    "#export results\n",
    "kclusters.to_excel('kmeans_je_jan_jun.xlsx', sheet_name='Sheet1')  "
   ]
  },
  {
   "cell_type": "code",
   "execution_count": 18,
   "metadata": {
    "collapsed": true
   },
   "outputs": [],
   "source": [
    "# This always errors due to not enough memory\n",
    "# from sklearn.preprocessing import scale\n",
    "# data_matrix = scale(data_matrix.todense())"
   ]
  }
 ],
 "metadata": {
  "anaconda-cloud": {},
  "kernelspec": {
   "display_name": "Python 2",
   "language": "python",
   "name": "python2"
  },
  "language_info": {
   "codemirror_mode": {
    "name": "ipython",
    "version": 2
   },
   "file_extension": ".py",
   "mimetype": "text/x-python",
   "name": "python",
   "nbconvert_exporter": "python",
   "pygments_lexer": "ipython2",
   "version": "2.7.13"
  }
 },
 "nbformat": 4,
 "nbformat_minor": 1
}
